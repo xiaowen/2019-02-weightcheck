{
 "cells": [
  {
   "cell_type": "code",
   "execution_count": null,
   "metadata": {},
   "outputs": [],
   "source": [
    "%matplotlib inline"
   ]
  },
  {
   "cell_type": "code",
   "execution_count": null,
   "metadata": {},
   "outputs": [],
   "source": [
    "import numpy as np\n",
    "import tensorflow as tf\n",
    "import object_detection.utils.label_map_util as label_map_util\n",
    "import object_detection.utils.visualization_utils as vis_util\n",
    "from matplotlib import pyplot as plt\n",
    "from pdb import set_trace as st\n",
    "from PIL import Image\n",
    "\n",
    "workdir = 'scale'\n",
    "category_index = label_map_util.create_category_index_from_labelmap(workdir + '/labels.pbtxt', use_display_name=True)\n",
    "reverse_cat = dict((v['name'], k) for k,v in category_index.items())"
   ]
  },
  {
   "cell_type": "code",
   "execution_count": null,
   "metadata": {},
   "outputs": [],
   "source": [
    "# Read input from file\n",
    "with open(workdir + '/detectedbboxes.csv', 'r') as fid:\n",
    "    input_data = fid.read()\n",
    "\n",
    "known_bboxes = [x.strip().split(',') for x in input_data.strip().split('\\n')[1:]]\n",
    "known_bboxes = dict((x[0], x[1:]) for x in known_bboxes)\n",
    "\n",
    "test_images = list(known_bboxes.keys())[:4]\n",
    "\n",
    "for ipart in test_images:\n",
    "    image = Image.open('%s/images/%s.jpg' % (workdir, ipart))\n",
    "    image_np = np.array(image)\n",
    "\n",
    "    detection_boxes = []\n",
    "    detection_scores = []\n",
    "    detection_classes = []\n",
    "\n",
    "    line = known_bboxes[ipart]\n",
    "    for i in range(2, len(line), 6):\n",
    "        label = reverse_cat[line[i]]\n",
    "        score, xmin,ymin,xmax,ymax = map(float, line[i+1:i+6])\n",
    "        detection_boxes.append((ymin, xmin, ymax, xmax))\n",
    "        detection_scores.append(score)\n",
    "        detection_classes.append(label)\n",
    "    \n",
    "    vis_util.visualize_boxes_and_labels_on_image_array(\n",
    "      image_np,\n",
    "      np.array(detection_boxes),\n",
    "      detection_classes,\n",
    "      detection_scores,\n",
    "      category_index,\n",
    "      instance_masks=None,\n",
    "      use_normalized_coordinates=True,\n",
    "      line_thickness=8)\n",
    "    plt.figure(figsize=(12, 8))\n",
    "    plt.imshow(image_np)"
   ]
  },
  {
   "cell_type": "code",
   "execution_count": null,
   "metadata": {},
   "outputs": [],
   "source": []
  }
 ],
 "metadata": {
  "kernelspec": {
   "display_name": "Python 2",
   "language": "python",
   "name": "python2"
  },
  "language_info": {
   "codemirror_mode": {
    "name": "ipython",
    "version": 2
   },
   "file_extension": ".py",
   "mimetype": "text/x-python",
   "name": "python",
   "nbconvert_exporter": "python",
   "pygments_lexer": "ipython2",
   "version": "2.7.13"
  }
 },
 "nbformat": 4,
 "nbformat_minor": 2
}
